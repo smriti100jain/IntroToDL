{
  "nbformat": 4,
  "nbformat_minor": 0,
  "metadata": {
    "kernelspec": {
      "display_name": "Python 3",
      "language": "python",
      "name": "python3"
    },
    "language_info": {
      "codemirror_mode": {
        "name": "ipython",
        "version": 3
      },
      "file_extension": ".py",
      "mimetype": "text/x-python",
      "name": "python",
      "nbconvert_exporter": "python",
      "pygments_lexer": "ipython3",
      "version": "3.6.5"
    },
    "colab": {
      "name": "download_resources.ipynb",
      "provenance": [],
      "include_colab_link": true
    }
  },
  "cells": [
    {
      "cell_type": "markdown",
      "metadata": {
        "id": "view-in-github",
        "colab_type": "text"
      },
      "source": [
        "<a href=\"https://colab.research.google.com/github/smriti100jain/IntroToDL/blob/master/download_resources.ipynb\" target=\"_parent\"><img src=\"https://colab.research.google.com/assets/colab-badge.svg\" alt=\"Open In Colab\"/></a>"
      ]
    },
    {
      "cell_type": "code",
      "metadata": {
        "id": "QLE2o7T5JbY_",
        "colab_type": "code",
        "colab": {}
      },
      "source": [
        "import download_utils"
      ],
      "execution_count": 0,
      "outputs": []
    },
    {
      "cell_type": "markdown",
      "metadata": {
        "id": "ojHc-17nJbZD",
        "colab_type": "text"
      },
      "source": [
        "## Keras resources"
      ]
    },
    {
      "cell_type": "code",
      "metadata": {
        "id": "aDSXImWrJbZE",
        "colab_type": "code",
        "colab": {}
      },
      "source": [
        "download_utils.download_all_keras_resources(\"readonly/keras/models\", \"readonly/keras/datasets\")"
      ],
      "execution_count": 0,
      "outputs": []
    },
    {
      "cell_type": "markdown",
      "metadata": {
        "id": "vpM-NeTeJbZH",
        "colab_type": "text"
      },
      "source": [
        "## Week 3 resources"
      ]
    },
    {
      "cell_type": "code",
      "metadata": {
        "id": "zDzEDFGDJbZH",
        "colab_type": "code",
        "colab": {}
      },
      "source": [
        "download_utils.download_week_3_resources(\"readonly/week3\")"
      ],
      "execution_count": 0,
      "outputs": []
    },
    {
      "cell_type": "markdown",
      "metadata": {
        "id": "XsWbKqU2JbZK",
        "colab_type": "text"
      },
      "source": [
        "## Week 4 resources"
      ]
    },
    {
      "cell_type": "code",
      "metadata": {
        "id": "sNPvDU17JbZL",
        "colab_type": "code",
        "colab": {}
      },
      "source": [
        "download_utils.download_week_4_resources(\"readonly/week4\")"
      ],
      "execution_count": 0,
      "outputs": []
    },
    {
      "cell_type": "markdown",
      "metadata": {
        "id": "kpetgdbmJbZO",
        "colab_type": "text"
      },
      "source": [
        "## Week 6 resources"
      ]
    },
    {
      "cell_type": "code",
      "metadata": {
        "id": "uTzwSiPxJbZP",
        "colab_type": "code",
        "colab": {}
      },
      "source": [
        "download_utils.download_week_6_resources(\"readonly/week6\")"
      ],
      "execution_count": 0,
      "outputs": []
    }
  ]
}